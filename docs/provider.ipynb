{
 "cells": [
  {
   "cell_type": "markdown",
   "metadata": {},
   "source": [
    "# [Pipeshift](https://pipeshift.com)\n",
    "\n",
    ">[Pipeshift](https://pipeshift.com) is a fine-tuning and inference platform for open-source LLMs\n",
    "\n",
    "- You bring your datasets. Fine-tune multiple LLMs. Start inferencing in one-click and watch them scale to millions.\n",
    "\n",
    "\n",
    "\n",
    "## Installation and Setup\n",
    "\n",
    "- Install the Pipeshift integration package.\n",
    "\n",
    "  ```\n",
    "  pip install langchain-pipeshift\n",
    "  ```\n",
    "\n",
    "- Get your Pipeshift API key by signing up at [Pipeshift](https://pipeshift.com).\n",
    "\n",
    "### Authentication\n",
    "\n",
    "You can perform authentication using your Pipeshift API key in any of the following ways:\n",
    "\n",
    "1.  Adding API key to the environment variable as `PIPESHIFT_API_KEY`.\n",
    "\n",
    "    ```python\n",
    "    os.environ[\"PIPESHIFT_API_KEY\"] = \"<your_api_key>\"\n",
    "    ```\n",
    "\n",
    "2.  By passing `api_key` to the pipeshift LLM module or chat module\n",
    "\n",
    "    ```python\n",
    "    llm = Pipeshift(api_key=\"<your_api_key>\")\n",
    "\n",
    "                        OR\n",
    "\n",
    "    chat = ChatPipeshift(api_key=\"<your_api_key>\")\n",
    "    ```\n",
    "## Chat models\n",
    "\n",
    "See an [example](/docs/integrations/chat/pipeshift).\n",
    "\n",
    "```python\n",
    "from langchain_pipeshift import ChatPipeshift\n",
    "```\n",
    "\n",
    "## LLMs\n",
    "\n",
    "See an [example](/docs/integrations/llms/pipeshift).\n",
    "\n",
    "```python\n",
    "from langchain_pipeshift import Pipeshift \n",
    "```\n"
   ]
  }
 ],
 "metadata": {
  "colab": {
   "provenance": []
  },
  "kernelspec": {
   "display_name": "Python 3 (ipykernel)",
   "language": "python",
   "name": "python3"
  },
  "language_info": {
   "codemirror_mode": {
    "name": "ipython",
    "version": 3
   },
   "file_extension": ".py",
   "mimetype": "text/x-python",
   "name": "python",
   "nbconvert_exporter": "python",
   "pygments_lexer": "ipython3",
   "version": "3.10.11"
  }
 },
 "nbformat": 4,
 "nbformat_minor": 1
}
